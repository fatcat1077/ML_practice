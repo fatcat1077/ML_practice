{
  "nbformat": 4,
  "nbformat_minor": 0,
  "metadata": {
    "colab": {
      "provenance": [],
      "include_colab_link": true
    },
    "kernelspec": {
      "name": "python3",
      "display_name": "Python 3"
    },
    "language_info": {
      "name": "python"
    },
    "accelerator": "GPU"
  },
  "cells": [
    {
      "cell_type": "markdown",
      "metadata": {
        "id": "view-in-github",
        "colab_type": "text"
      },
      "source": [
        "<a href=\"https://colab.research.google.com/github/fatcat1077/ML_practice/blob/main/%5BHW2_Template%5D_Dense(fashion_mnist).ipynb\" target=\"_parent\"><img src=\"https://colab.research.google.com/assets/colab-badge.svg\" alt=\"Open In Colab\"/></a>"
      ]
    },
    {
      "cell_type": "markdown",
      "source": [
        "# **Assignment 2. Are Deeper Networks Better?**\n",
        "\n",
        "* 使用Fully Connected Neural Network\n",
        "* 在相同超參數設定下(batch_size=20; epochs=15; optimizer=‘Adam’)，比較10個不同深度(1 hidden layer, 5 hidden layers, 9 hidden layers,…, 37 hidden layers)神經網路模型的分類準確度\n",
        "* 評論與回答”Are deeper networks better?”\n",
        "\n"
      ],
      "metadata": {
        "id": "UmKanLMdXqt8"
      }
    },
    {
      "cell_type": "code",
      "source": [
        "# Install old-version Tensorflow if necessary\n",
        "!pip install tensorflow==2.7.0"
      ],
      "metadata": {
        "id": "xWLTenleEW2d"
      },
      "execution_count": null,
      "outputs": []
    },
    {
      "cell_type": "code",
      "source": [
        "import numpy as np\n",
        "import matplotlib.pyplot as plt\n",
        "from tensorflow.keras import utils\n",
        "from tensorflow.keras.datasets import fashion_mnist\n",
        "\n",
        "#Load training data and testing from mnist\n",
        "(x_train_image, y_train_label), (x_test_image, y_test_label) = fashion_mnist.load_data()\n",
        "class_names = ['T-shirt','Trouser','Pullover','Dress','Coat','Sandal','Shirt','Sneaker','Bag','Ankle boot']\n",
        "\n",
        "def plot_multiimages(images, labels, prediction, idx, num=32):\n",
        "    plt.gcf().set_size_inches(14, 4)\n",
        "    if num > 32: num = 32\n",
        "    for i in range(0, num):\n",
        "        ax=plt.subplot(4,8, 1+i)\n",
        "        ax.imshow(images[idx],cmap='binary')\n",
        "        title = \"l=\" + class_names[int(labels[idx])]\n",
        "        if len(prediction) > 0:\n",
        "            title = \"l={},p={}\".format(class_names[int(labels[idx])], class_names[prediction[idx]])\n",
        "        else:\n",
        "            title = \"l={}\".format(class_names[int(labels[idx])])\n",
        "        ax.set_title(title, fontsize=8)\n",
        "        ax.set_xticks([]); ax.set_yticks([])\n",
        "        idx+=1\n",
        "    plt.tight_layout()\n",
        "    plt.show()\n",
        "plot_multiimages(x_train_image, y_train_label, [], 0, 32)\n",
        "\n",
        "#Reshape the image from 2D image to 1D image of size 28*28\n",
        "x_train = x_train_image.reshape(len(x_train_image), 28*28).astype('float32')\n",
        "x_test = x_test_image.reshape(len(x_test_image), 28*28).astype('float32')\n",
        "x_train_norm = x_train/255\n",
        "x_test_norm = x_test/255\n",
        "y_TrainOneHot = utils.to_categorical(y_train_label)\n",
        "y_TestOneHot = utils.to_categorical(y_test_label)"
      ],
      "metadata": {
        "id": "CBKEuRB5YXS0"
      },
      "execution_count": null,
      "outputs": []
    },
    {
      "cell_type": "code",
      "source": [
        "# Build a neural network here.....................\n",
        "#TODO....\n",
        "\n",
        "model.summary()"
      ],
      "metadata": {
        "id": "1db-DCIAYbTD"
      },
      "execution_count": null,
      "outputs": []
    },
    {
      "cell_type": "code",
      "metadata": {
        "id": "6VSrpbkXnBzY"
      },
      "source": [
        "model.compile(loss='categorical_crossentropy', optimizer='SGD', metrics=['accuracy'])\n",
        "train_history = model.fit(x=x_train_norm[0:5000], y=y_TrainOneHot[0:5000], validation_split=0.2, epochs=5, batch_size=20, verbose=2)\n",
        "\n",
        "def show_train_history(train_history, train, validation):\n",
        "    plt.plot(train_history.history[train])\n",
        "    plt.plot(train_history.history[validation])\n",
        "    plt.title('Train History')\n",
        "    plt.ylabel(train)\n",
        "    plt.xlabel('Epoch')\n",
        "    plt.legend(['train', 'validation'], loc='upper left')\n",
        "    plt.show()\n",
        "show_train_history(train_history, 'accuracy', 'val_accuracy')\n",
        "show_train_history(train_history, 'loss', 'val_loss')\n",
        "\n",
        "scores = model.evaluate(x_test_norm, y_TestOneHot)\n",
        "print()\n",
        "print(\"\\t[Info] Accuracy of testing data = {:2.1f}%\".format(scores[1]*100.0))\n",
        "print(\"\\t[Info] Making prediction to x_test_norm\")\n",
        "\n",
        "\n",
        "# Making prediction and save result to prediction\n",
        "prediction_prob = model.predict(x_test_norm[0:1000])\n",
        "prediction = np.argmax(prediction_prob,axis=1)\n",
        "\n",
        "print()\n",
        "print(\"\\t[Info] Show 10 prediction result (From 0):\")\n",
        "print(\"%s\\n\" % (prediction[0:10]))\n",
        "plot_multiimages(x_test_image, y_test_label, prediction, idx=0)"
      ],
      "execution_count": null,
      "outputs": []
    }
  ]
}